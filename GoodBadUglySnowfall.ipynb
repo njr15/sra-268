{
  "nbformat": 4,
  "nbformat_minor": 0,
  "metadata": {
    "colab": {
      "name": "GoodBadUglySnowfall.ipynb",
      "provenance": [],
      "collapsed_sections": [],
      "toc_visible": true,
      "include_colab_link": true
    },
    "kernelspec": {
      "name": "python3",
      "display_name": "Python 3"
    }
  },
  "cells": [
    {
      "cell_type": "markdown",
      "metadata": {
        "id": "view-in-github",
        "colab_type": "text"
      },
      "source": [
        "<a href=\"https://colab.research.google.com/github/njr15/sra-268/blob/master/GoodBadUglySnowfall.ipynb\" target=\"_parent\"><img src=\"https://colab.research.google.com/assets/colab-badge.svg\" alt=\"Open In Colab\"/></a>"
      ]
    },
    {
      "cell_type": "markdown",
      "metadata": {
        "id": "z_mbMnH5D4Z3",
        "colab_type": "text"
      },
      "source": [
        "# Good, Bad, and Ugly Project\n",
        "Amount of Snowfall on December 20-31 from 2000 to 2020\n",
        " Nick Russo, Jacob Witman, and Brendan Clark"
      ]
    },
    {
      "cell_type": "markdown",
      "metadata": {
        "id": "emPxbZf0LT77",
        "colab_type": "text"
      },
      "source": [
        "##Outline of Original\n",
        "This project is designed to show the snowfall in State College during the week of Christmas during the years 2017 and 2018. The data will be shown in a separate graph for each year, with a single data point representing the total snowfall for each day in that week. Christmas day itself has a different looking data point to stand out, showing if it was a \"White Christmas\". "
      ]
    },
    {
      "cell_type": "markdown",
      "metadata": {
        "colab_type": "text",
        "id": "r2Qfk_8np2QB"
      },
      "source": [
        "##The Sketch of Original\n",
        "![No Image](https://raw.githubusercontent.com/JakeWitman/snowfallProject/master/images/Snowfall%20Sketch%20picture.jpg)"
      ]
    },
    {
      "cell_type": "markdown",
      "metadata": {
        "id": "hrsCfb3C1HYZ",
        "colab_type": "text"
      },
      "source": [
        "## Conclusion of Original\n",
        "The data collected and displayed in the two graphs clearly shows snow during the week of Christmas, in recent years, is not very common. Even when it does snow, it has not been a significant amount. However, 1 out of the 2 years that data was available for did have a \"White Christmas\" where it snowed on Christmas day. Due to the limited data set, this 50% mark could be very skewed."
      ]
    },
    {
      "cell_type": "markdown",
      "metadata": {
        "id": "NmsSWGjlfikX",
        "colab_type": "text"
      },
      "source": [
        "## Outline of New"
      ]
    },
    {
      "cell_type": "markdown",
      "metadata": {
        "id": "OCy0l6BXfluw",
        "colab_type": "text"
      },
      "source": [
        "The new graphs that we have decided to construct are based largely on the original idea. We really wanted to take a look at the concept that it snows on Christmas, and see how often the stereotype is actually correct. We took December 20-29th data from each year and compiled the snowfall for each year. We used blue to indicate snowfall on every day in that range except for December 25th, which we indicated with a red bar. This makes the graph easy to read, and it is very simple to extrapolate the things we wanted to communicate with the graph. It is very easy to see how often a White Christmas actually occurs, and it is also easy to see how often during the holiday season snow is actually present in some way, and what amount of snow is commonplace."
      ]
    },
    {
      "cell_type": "markdown",
      "metadata": {
        "id": "bhBSlx-aqZvQ",
        "colab_type": "text"
      },
      "source": [
        "## The Good"
      ]
    },
    {
      "cell_type": "markdown",
      "metadata": {
        "id": "5e1lvm6VsG03",
        "colab_type": "text"
      },
      "source": [
        "This graph we consider to be good, because it easily and accurately conveys all of the data that we want it to convey. The two retinal variables that we chose to use were size and color. We used the bar graph format to have clearly comparable sizes that show what years had greater snowfall in the period around Christmas. The other variable we chose to use was color. We decided to make each day from December 20-31 the same shade of blue, but we made December 25th data red. In this way, we can also quickly see from the visualization which years had white Christmases, as well as about how often white Christmases have occurred in recent years."
      ]
    },
    {
      "cell_type": "markdown",
      "metadata": {
        "id": "KICtakkeu56e",
        "colab_type": "text"
      },
      "source": [
        "![Good Graph](https://drive.google.com/uc?id=1B3_nWNnNTc6M3J_8WFD9llvbHQpGdcmH)"
      ]
    },
    {
      "cell_type": "markdown",
      "metadata": {
        "id": "HytQgpYPvSDn",
        "colab_type": "text"
      },
      "source": [
        "## The Bad"
      ]
    },
    {
      "cell_type": "markdown",
      "metadata": {
        "id": "8CH4CPrf1bFu",
        "colab_type": "text"
      },
      "source": [
        "We used this graph as our bad graph, as it is misleading and does not easily portray the data that the user is trying to understand. Our retinal variables for this graph were the orientation and the size. There is no clear differentiation in the sizes of the graph which can result in the user misunderstanding the data and coming to a false conclusion. The orientation of the graph is also confusing to the viewer and there is a complete lack to meaning corresponding to the different colors on the graph. All of this will leave a viewer puzzled and unable to take away any real meaning from the graph.   "
      ]
    },
    {
      "cell_type": "markdown",
      "metadata": {
        "id": "rinDQhrqy3_x",
        "colab_type": "text"
      },
      "source": [
        "![Ugly Graph](https://drive.google.com/uc?id=1HCyS9v9WXyFXzkLdRa6EDircV4FIMGag)"
      ]
    },
    {
      "cell_type": "markdown",
      "metadata": {
        "id": "fVS_7B4EvUcH",
        "colab_type": "text"
      },
      "source": [
        "## The Ugly"
      ]
    },
    {
      "cell_type": "markdown",
      "metadata": {
        "id": "Z1xnlLMWvWMO",
        "colab_type": "text"
      },
      "source": [
        "This graph is comparable to our Good graph, in that it is a bar graph gone wrong. The colors of the graph do not convey an meaningful information, and serve only to make the graph more cluttered and difficult to read. Also the orientation of the graph is not very meaningful. There are blocks that are simply floating around, and again do not serve to communicate any meaningful data to the viewer. The graph looks extremely ugly, takes up a lot of space, and it is hard to extrapolate any meaningful data from it."
      ]
    },
    {
      "cell_type": "markdown",
      "metadata": {
        "id": "JTHqwQMY1tFY",
        "colab_type": "text"
      },
      "source": [
        "![The Ugly Graph](https://drive.google.com/uc?id=1GO0NYxuzJ9s10N5dDReIjFiGQ0lazpYM)"
      ]
    }
  ]
}