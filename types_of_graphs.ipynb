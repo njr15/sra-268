{
  "nbformat": 4,
  "nbformat_minor": 0,
  "metadata": {
    "colab": {
      "name": "types of graphs",
      "provenance": [],
      "authorship_tag": "ABX9TyPX/kLkSNnqUtQEJbHc84c6",
      "include_colab_link": true
    },
    "kernelspec": {
      "name": "python3",
      "display_name": "Python 3"
    }
  },
  "cells": [
    {
      "cell_type": "markdown",
      "metadata": {
        "id": "view-in-github",
        "colab_type": "text"
      },
      "source": [
        "<a href=\"https://colab.research.google.com/github/njr15/sra-268/blob/master/types_of_graphs.ipynb\" target=\"_parent\"><img src=\"https://colab.research.google.com/assets/colab-badge.svg\" alt=\"Open In Colab\"/></a>"
      ]
    },
    {
      "cell_type": "markdown",
      "metadata": {
        "id": "NgEDPIcMACBF",
        "colab_type": "text"
      },
      "source": [
        "## Types of Graphs Lab\n",
        "Nick Russo"
      ]
    },
    {
      "cell_type": "markdown",
      "metadata": {
        "id": "pagePzmXAQQ4",
        "colab_type": "text"
      },
      "source": [
        "##Deviation Graph"
      ]
    },
    {
      "cell_type": "markdown",
      "metadata": {
        "id": "_gYirrOGG0f5",
        "colab_type": "text"
      },
      "source": [
        "![Deviatyion Graph](https://drive.google.com/uc?id=1XDwLyRXbcqkHE1CL_TBRnL-fITOeVmu6)"
      ]
    },
    {
      "cell_type": "markdown",
      "metadata": {
        "id": "tzP4bJ5vG1kp",
        "colab_type": "text"
      },
      "source": [
        "Explanation\n",
        "I chose a diverging bar chart for deviation because it does a good job showing the balance and average for two diiferent topics. I did a comparison between the sum win points and the sum lose points each year. After reading the graph it appears that the win points spiked very high from 1988 to 1995 and then again from 2015 to 2018. The sum lose poits spiked right off the back and alot from 1998 to 2015."
      ]
    },
    {
      "cell_type": "markdown",
      "metadata": {
        "id": "jXQhXckNG4PU",
        "colab_type": "text"
      },
      "source": [
        "##Correlation"
      ]
    },
    {
      "cell_type": "markdown",
      "metadata": {
        "id": "rkJjzOBTHCK9",
        "colab_type": "text"
      },
      "source": [
        "![Correlation](https://drive.google.com/uc?id=13DYCHbQ_DpMesyyn6lhnaOaQVhej4zcF)"
      ]
    },
    {
      "cell_type": "markdown",
      "metadata": {
        "id": "GlRM4GvxHCb4",
        "colab_type": "text"
      },
      "source": [
        "Explanation\n",
        "\n",
        "For correlation I chose to do a scatterplot showing the Avergae win points per game compared to average lose points per game. I chose a scatterplot because its the standard way to show a relationship between two topics.The correlation seemed to be very accurate and stayed between 60 and 90 points for both plots. The plots start by going up alittle bit, then gradually fall down, then spike up, then down and are gradually comimg up now, so the graph isn't very consistent. The highest points seemed to be aroun 1989 and the lowest were around 2012 to 2014."
      ]
    },
    {
      "cell_type": "markdown",
      "metadata": {
        "id": "3PtCgWOsHELC",
        "colab_type": "text"
      },
      "source": [
        "##Ranking Graph"
      ]
    },
    {
      "cell_type": "markdown",
      "metadata": {
        "id": "LuHYIgJdWgnB",
        "colab_type": "text"
      },
      "source": [
        "![Ranking Graph](https://drive.google.com/uc?id=1P0v1MF8d1zowBc3XEmeYGIJdW-1loH8_)"
      ]
    },
    {
      "cell_type": "markdown",
      "metadata": {
        "id": "3FRS6dFeXADD",
        "colab_type": "text"
      },
      "source": [
        "##Explanation for Ranking Graph\n",
        "For the ranking graph I chose to do a bar chart because when you use bar charts they display the results much more easily. I chose to do a ranking chart with winning team points and games by year.After looking at the graph I noticed that for the most part, the more recent yeras had the most points scored but that not the case for the whole graph because there are several early 2000's and and 90's years that surpass recent years like 2012 and 2011. It goes to show that just because the game is changing that it doesnt always affect how many points are scored in a game."
      ]
    },
    {
      "cell_type": "markdown",
      "metadata": {
        "id": "PQ5bDKXOfgxh",
        "colab_type": "text"
      },
      "source": [
        "##Distribution"
      ]
    },
    {
      "cell_type": "markdown",
      "metadata": {
        "id": "Bgwwo2UTfkYt",
        "colab_type": "text"
      },
      "source": [
        "![alt text](https://drive.google.com/uc?id=1W0PnypZTQrpSkcmYJ0rAiMogOjA7M-TV)"
      ]
    },
    {
      "cell_type": "markdown",
      "metadata": {
        "id": "71fo6rXqfkwM",
        "colab_type": "text"
      },
      "source": [
        "##Explanation for Distribution Graph\n",
        "For the distribution graph I chose to do a whisker box plot to represent the data because it shows numerous distributions between median,mean , and range. The two topics I used for the graph were the lsoing teams and the number of overtime games they played. After looking at the data, most teams seemed to play atleast 1 overtime game and th a maximum number of overtime games played by all these teams was 2. The teams that atually utilized the box plots were the Bonnies, the Bulldogs, The Nittany lions, and The Red Hawks. The data only goes up s many because tehse are the losing teams and once you lose in the tournament you are out."
      ]
    },
    {
      "cell_type": "markdown",
      "metadata": {
        "id": "NyP0Hdv8fpNy",
        "colab_type": "text"
      },
      "source": [
        "##Change Over Time"
      ]
    },
    {
      "cell_type": "markdown",
      "metadata": {
        "id": "Q8lUnq6pfykC",
        "colab_type": "text"
      },
      "source": [
        "![Change Over Time text](https://drive.google.com/uc?id=1OmgtLuGBoDkKBk5t2j277rRhW-z8Y82H)"
      ]
    },
    {
      "cell_type": "markdown",
      "metadata": {
        "id": "TxxL8GtEf9Ad",
        "colab_type": "text"
      },
      "source": [
        "##Explanation for Change Over time graph\n",
        "I chose to use a scatterplot for this graph because it is a good way of showing changing data for two variables when theres a trend of progression.I chose to do the sum of the points of the losing teams with the game dates by years. After studying the graph it appears that at first the losing teasm scored the lowest overall in 1986, then quickly went up, slowlyy went down, then back up, then back down, and are continung to go up for this year. Its an interesting graph to see how the points by the losing team hasn't been on a constant incline or decline since 1986, but recently seems to continue to rise. This goes to show that the offenses in these tournaments are improving."
      ]
    },
    {
      "cell_type": "markdown",
      "metadata": {
        "id": "hlTNdV-ri8UG",
        "colab_type": "text"
      },
      "source": [
        "##Magnitude Graph"
      ]
    },
    {
      "cell_type": "markdown",
      "metadata": {
        "id": "obBT9CxHjFRD",
        "colab_type": "text"
      },
      "source": [
        "![alt text](https://drive.google.com/uc?id=1FNnh5CkFAsTnKGg_C1GzI7xTvZUgfZTH)"
      ]
    },
    {
      "cell_type": "markdown",
      "metadata": {
        "id": "rFPu0sv1jJuZ",
        "colab_type": "text"
      },
      "source": [
        "##Explanantion For Magnitude Graph\n",
        "For the magnitude graph I chose to do the average number of winning points compared to each winning mascot.I chose a bar graph because its the standard way to compare the size of things. After putting together this graph I noticed that the human mascots averaged the most winning points per game with around 80, followed by the Husky with 78, The brown bear with 77, and the cardinal in last place with around 76. The averga epoint scores were extremely close besisdes the Human mascots. "
      ]
    },
    {
      "cell_type": "markdown",
      "metadata": {
        "id": "Vuv0suzJjPf2",
        "colab_type": "text"
      },
      "source": [
        "##Part To Whole Graph"
      ]
    },
    {
      "cell_type": "markdown",
      "metadata": {
        "id": "G-OFRslNjUyS",
        "colab_type": "text"
      },
      "source": [
        "![Part to whole graph](https://drive.google.com/uc?id=1api8e1v4FfRUUVXNs_6GDR5szi9sdb5Y)"
      ]
    },
    {
      "cell_type": "markdown",
      "metadata": {
        "id": "yrXj2BO8jWGH",
        "colab_type": "text"
      },
      "source": [
        "##Explanation For Part To Whole Graph\n",
        "For this graph I chose to do a pie chart because it a common way to show this kind of data. I did the days of the week and the sum of the losing points scored on those days of the week for the tournament. The majority of these points came Thursday, friday, Saturday, and Sunday because this is when most of the games are played. Monday through Wednesday has very little action. This is a soid chart for part to whole, but pie charts do make it hard to understand the data fully."
      ]
    }
  ]
}