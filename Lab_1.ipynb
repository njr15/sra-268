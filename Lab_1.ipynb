{
  "nbformat": 4,
  "nbformat_minor": 0,
  "metadata": {
    "colab": {
      "name": "Lab 1",
      "provenance": [],
      "authorship_tag": "ABX9TyPc2uVXAGP1amL3xBpINsIr",
      "include_colab_link": true
    },
    "kernelspec": {
      "name": "python3",
      "display_name": "Python 3"
    }
  },
  "cells": [
    {
      "cell_type": "markdown",
      "metadata": {
        "id": "view-in-github",
        "colab_type": "text"
      },
      "source": [
        "<a href=\"https://colab.research.google.com/github/njr15/sra-268/blob/master/Lab_1.ipynb\" target=\"_parent\"><img src=\"https://colab.research.google.com/assets/colab-badge.svg\" alt=\"Open In Colab\"/></a>"
      ]
    },
    {
      "cell_type": "markdown",
      "metadata": {
        "id": "nsq6eqb05c08",
        "colab_type": "text"
      },
      "source": [
        "# Project Title\n",
        "Temperature average in State College from Nov 23- Dec 7 2018\n",
        "# Description\n",
        "The following graph contains the average tempertue from the dates of Novemeber 23 to December 7 2018. This is seven days before my birthday and seven days ater my birthday. I am curious too see how the weather chnaged from before my birthday to after my birthday.\n",
        "# Sketch \n",
        "![Trend Graph](https://drive.google.com/uc?id=1Caq2vEAs5QaMNpRUgrgJ44BwxqLvOkbB) \n",
        "\n",
        "# Conclusion\n",
        "After putting together the graph i noticdd an interesting trend with the graph. It seemed to follow a trend of going up in temperature peaking in the 40's and then going back down again. The maximum average temperature was 44 degrees on december 4th and he lowest average temperature was 19.5 on Novemeber 23."
      ]
    },
    {
      "cell_type": "markdown",
      "metadata": {
        "id": "5HlkGuLdKppX",
        "colab_type": "text"
      },
      "source": [
        "# New Section"
      ]
    }
  ]
}